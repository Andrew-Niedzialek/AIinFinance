{
 "cells": [
  {
   "cell_type": "markdown",
   "metadata": {},
   "source": [
    "# AI in Finance Project: Buy the Close, Sell the Open"
   ]
  },
  {
   "cell_type": "code",
   "execution_count": 1,
   "metadata": {},
   "outputs": [],
   "source": [
    "#Libraries\n",
    "import pandas as pd\n",
    "import matplotlib.pyplot as plt\n",
    "import numpy as np\n",
    "import os\n",
    "import datetime as dt\n",
    "import math\n",
    "\n",
    "from sklearn.preprocessing import StandardScaler\n",
    "from sklearn.ensemble import RandomForestRegressor\n",
    "from sklearn.metrics import mean_squared_error\n",
    "from sklearn.model_selection import RandomizedSearchCV\n",
    "from scipy.signal import find_peaks\n",
    "from xgboost import XGBRegressor"
   ]
  },
  {
   "cell_type": "code",
   "execution_count": 2,
   "metadata": {},
   "outputs": [],
   "source": [
    "#Silence some annoying errors\n",
    "import sys\n",
    "\n",
    "if not sys.warnoptions:\n",
    "    import warnings\n",
    "    warnings.simplefilter(\"ignore\")"
   ]
  },
  {
   "cell_type": "code",
   "execution_count": 3,
   "metadata": {},
   "outputs": [],
   "source": [
    "#Set directory\n",
    "# os.chdir('/Users/19052/Desktop/')"
   ]
  },
  {
   "cell_type": "markdown",
   "metadata": {},
   "source": [
    "# Hypothesis"
   ]
  },
  {
   "cell_type": "markdown",
   "metadata": {},
   "source": [
    "See: https://www.businessinsider.com/stocks-fall-during-regular-trading-hours-rise-overnight-2016-3 for hypothesis. The strategy here is to buy the close and sell at open next morning, the features will be 20 days of open price, close price, and volume data, as well as weekday ordinally encoded. May also add a sliding window variance feature. Target is the percent difference between next days close price, and the day after thats open price. Assuming you would need to decide a day before the trade, might also include day of open price."
   ]
  },
  {
   "cell_type": "markdown",
   "metadata": {},
   "source": [
    "# Importing Data "
   ]
  },
  {
   "cell_type": "code",
   "execution_count": 4,
   "metadata": {},
   "outputs": [
    {
     "data": {
      "text/html": [
       "<div>\n",
       "<style scoped>\n",
       "    .dataframe tbody tr th:only-of-type {\n",
       "        vertical-align: middle;\n",
       "    }\n",
       "\n",
       "    .dataframe tbody tr th {\n",
       "        vertical-align: top;\n",
       "    }\n",
       "\n",
       "    .dataframe thead th {\n",
       "        text-align: right;\n",
       "    }\n",
       "</style>\n",
       "<table border=\"1\" class=\"dataframe\">\n",
       "  <thead>\n",
       "    <tr style=\"text-align: right;\">\n",
       "      <th></th>\n",
       "      <th>date</th>\n",
       "      <th>TICKER</th>\n",
       "      <th>BIDLO</th>\n",
       "      <th>ASKHI</th>\n",
       "      <th>PRC</th>\n",
       "      <th>VOL</th>\n",
       "      <th>OPENPRC</th>\n",
       "    </tr>\n",
       "  </thead>\n",
       "  <tbody>\n",
       "    <tr>\n",
       "      <th>4024</th>\n",
       "      <td>2016-01-04</td>\n",
       "      <td>AAPL</td>\n",
       "      <td>102.00</td>\n",
       "      <td>105.368</td>\n",
       "      <td>105.35</td>\n",
       "      <td>69383612</td>\n",
       "      <td>102.61</td>\n",
       "    </tr>\n",
       "    <tr>\n",
       "      <th>4025</th>\n",
       "      <td>2016-01-05</td>\n",
       "      <td>AAPL</td>\n",
       "      <td>102.41</td>\n",
       "      <td>105.850</td>\n",
       "      <td>102.71</td>\n",
       "      <td>55791042</td>\n",
       "      <td>105.75</td>\n",
       "    </tr>\n",
       "    <tr>\n",
       "      <th>4026</th>\n",
       "      <td>2016-01-06</td>\n",
       "      <td>AAPL</td>\n",
       "      <td>99.87</td>\n",
       "      <td>102.370</td>\n",
       "      <td>100.70</td>\n",
       "      <td>68487388</td>\n",
       "      <td>100.56</td>\n",
       "    </tr>\n",
       "    <tr>\n",
       "      <th>4027</th>\n",
       "      <td>2016-01-07</td>\n",
       "      <td>AAPL</td>\n",
       "      <td>96.43</td>\n",
       "      <td>100.130</td>\n",
       "      <td>96.45</td>\n",
       "      <td>81466204</td>\n",
       "      <td>98.68</td>\n",
       "    </tr>\n",
       "    <tr>\n",
       "      <th>4028</th>\n",
       "      <td>2016-01-08</td>\n",
       "      <td>AAPL</td>\n",
       "      <td>96.76</td>\n",
       "      <td>99.110</td>\n",
       "      <td>96.96</td>\n",
       "      <td>70798746</td>\n",
       "      <td>98.55</td>\n",
       "    </tr>\n",
       "  </tbody>\n",
       "</table>\n",
       "</div>"
      ],
      "text/plain": [
       "           date TICKER   BIDLO    ASKHI     PRC       VOL  OPENPRC\n",
       "4024 2016-01-04   AAPL  102.00  105.368  105.35  69383612   102.61\n",
       "4025 2016-01-05   AAPL  102.41  105.850  102.71  55791042   105.75\n",
       "4026 2016-01-06   AAPL   99.87  102.370  100.70  68487388   100.56\n",
       "4027 2016-01-07   AAPL   96.43  100.130   96.45  81466204    98.68\n",
       "4028 2016-01-08   AAPL   96.76   99.110   96.96  70798746    98.55"
      ]
     },
     "execution_count": 4,
     "metadata": {},
     "output_type": "execute_result"
    }
   ],
   "source": [
    "#pulling in data, top 10 US tech stocks by market cap (omitted TSLA, because not really tech))\n",
    "StackedPrices = pd.read_csv(\"TechStocks.csv\")\n",
    "StackedPrices.date = pd.to_datetime(StackedPrices.date) \n",
    "StackedPrices.PRC = abs(StackedPrices.PRC) \n",
    "\n",
    "#Dropping these features for now\n",
    "StackedPrices = StackedPrices.drop(['PERMNO'], axis = 1)\n",
    "StackedPrices = StackedPrices.drop(['BID'], axis = 1)\n",
    "StackedPrices = StackedPrices.drop(['ASK'], axis = 1)\n",
    "StackedPrices = StackedPrices.drop(['NUMTRD'], axis = 1)\n",
    "\n",
    "#Added high and low of day\n",
    "#StackedPrices = StackedPrices.drop(['BIDLO'], axis = 1)\n",
    "#StackedPrices = StackedPrices.drop(['ASKHI'], axis = 1) \n",
    "\n",
    "#Remove voting shares of Google and sorting\n",
    "StackedPrices = StackedPrices[StackedPrices['TICKER'] != \"GOOGL\"] \n",
    "StackedPrices.sort_values(by=['TICKER', 'date'], inplace=True)\n",
    "\n",
    "StackedPrices.head()"
   ]
  },
  {
   "cell_type": "code",
   "execution_count": 5,
   "metadata": {},
   "outputs": [],
   "source": [
    "#useful function for unpivoting tables\n",
    "def MyStack(X):\n",
    "    X = X.stack(dropna=False)\n",
    "    X.reset_index(inplace=True)\n",
    "    X.sort_values(by=['TICKER', 'date'], inplace=True)\n",
    "    return(X)"
   ]
  },
  {
   "cell_type": "code",
   "execution_count": 6,
   "metadata": {},
   "outputs": [],
   "source": [
    "#list of tickers\n",
    "Tick = ['AAPL' , 'AMZN', 'FB', 'GOOG', 'INTC', 'MSFT', 'NFLX', 'NVDA', 'ORCL', 'PYPL']\n",
    "\n",
    "#List of values\n",
    "Values = ['PRC','VOL', 'OPENPRC', 'ASKHI', 'BIDLO']\n",
    "\n",
    "# For splitting data\n",
    "TestYear = 2019"
   ]
  },
  {
   "cell_type": "code",
   "execution_count": 7,
   "metadata": {},
   "outputs": [],
   "source": [
    "#Unstacking Data\n",
    "UnstackedPrices = pd.pivot_table(StackedPrices, values=Values, index=['date'], columns=['TICKER'], aggfunc=np.sum)"
   ]
  },
  {
   "cell_type": "markdown",
   "metadata": {},
   "source": [
    "# Feature Engineering Part 1"
   ]
  },
  {
   "cell_type": "code",
   "execution_count": 8,
   "metadata": {},
   "outputs": [],
   "source": [
    "#Adding rolling window features\n",
    "\n",
    "#20 day rolling standard deviation of price\n",
    "for i in Tick:\n",
    "    UnstackedPrices['20STDPRC', i] = UnstackedPrices['PRC', i].rolling(window=20).std()\n",
    "\n",
    "#5 day rolling standard deviation of price\n",
    "for ii in Tick:\n",
    "    UnstackedPrices['5STDPRC', ii] = UnstackedPrices['PRC', ii].rolling(window=5).std()\n",
    "    \n",
    "#5 day rolling mean of price\n",
    "for iii in Tick:\n",
    "    UnstackedPrices['5AVGPRC', iii] = UnstackedPrices['PRC',iii].rolling(window=5).mean()\n",
    "    \n",
    "#5 day rolling stdev of volume\n",
    "for iiii in Tick:\n",
    "    UnstackedPrices['5STDVOL', iiii] = UnstackedPrices['PRC',iiii].rolling(window=5).mean()\n",
    "\n",
    "#Open Price day of trade\n",
    "OpenPrc1 = UnstackedPrices['OPENPRC'].shift(periods=-1)\n",
    "\n",
    "for v in Tick:\n",
    "    UnstackedPrices['OPENTRD', v] = OpenPrc1[v] "
   ]
  },
  {
   "cell_type": "code",
   "execution_count": 9,
   "metadata": {},
   "outputs": [],
   "source": [
    "#Saving these on the side to reassemble dataframe after its converted to numpy array with scaler\n",
    "col = UnstackedPrices.columns\n",
    "idx = UnstackedPrices.index\n",
    "\n",
    "# Split train/test data\n",
    "data_train = UnstackedPrices[UnstackedPrices.index.year != TestYear]\n",
    "data_test = UnstackedPrices[UnstackedPrices.index.year == TestYear]\n",
    "\n",
    "#Normalizing data\n",
    "scaler = StandardScaler()\n",
    "data_train_sc = scaler.fit_transform(data_train)\n",
    "data_test_sc = scaler.transform(data_test)\n",
    "X = np.vstack((data_train_sc, data_test_sc))\n",
    "\n",
    "#Reassembling Dataframe\n",
    "NormPrices = pd.DataFrame(X)\n",
    "NormPrices.index = idx\n",
    "NormPrices.columns = col\n",
    "#NormPrices.head()"
   ]
  },
  {
   "cell_type": "code",
   "execution_count": 10,
   "metadata": {},
   "outputs": [
    {
     "data": {
      "text/html": [
       "<div>\n",
       "<style scoped>\n",
       "    .dataframe tbody tr th:only-of-type {\n",
       "        vertical-align: middle;\n",
       "    }\n",
       "\n",
       "    .dataframe tbody tr th {\n",
       "        vertical-align: top;\n",
       "    }\n",
       "\n",
       "    .dataframe thead tr th {\n",
       "        text-align: left;\n",
       "    }\n",
       "\n",
       "    .dataframe thead tr:last-of-type th {\n",
       "        text-align: right;\n",
       "    }\n",
       "</style>\n",
       "<table border=\"1\" class=\"dataframe\">\n",
       "  <thead>\n",
       "    <tr>\n",
       "      <th></th>\n",
       "      <th colspan=\"10\" halign=\"left\">ASKHI</th>\n",
       "      <th>...</th>\n",
       "      <th colspan=\"10\" halign=\"left\">OPENTRD</th>\n",
       "    </tr>\n",
       "    <tr>\n",
       "      <th>TICKER</th>\n",
       "      <th>AAPL</th>\n",
       "      <th>AMZN</th>\n",
       "      <th>FB</th>\n",
       "      <th>GOOG</th>\n",
       "      <th>INTC</th>\n",
       "      <th>MSFT</th>\n",
       "      <th>NFLX</th>\n",
       "      <th>NVDA</th>\n",
       "      <th>ORCL</th>\n",
       "      <th>PYPL</th>\n",
       "      <th>...</th>\n",
       "      <th>AAPL</th>\n",
       "      <th>AMZN</th>\n",
       "      <th>FB</th>\n",
       "      <th>GOOG</th>\n",
       "      <th>INTC</th>\n",
       "      <th>MSFT</th>\n",
       "      <th>NFLX</th>\n",
       "      <th>NVDA</th>\n",
       "      <th>ORCL</th>\n",
       "      <th>PYPL</th>\n",
       "    </tr>\n",
       "    <tr>\n",
       "      <th>date</th>\n",
       "      <th></th>\n",
       "      <th></th>\n",
       "      <th></th>\n",
       "      <th></th>\n",
       "      <th></th>\n",
       "      <th></th>\n",
       "      <th></th>\n",
       "      <th></th>\n",
       "      <th></th>\n",
       "      <th></th>\n",
       "      <th></th>\n",
       "      <th></th>\n",
       "      <th></th>\n",
       "      <th></th>\n",
       "      <th></th>\n",
       "      <th></th>\n",
       "      <th></th>\n",
       "      <th></th>\n",
       "      <th></th>\n",
       "      <th></th>\n",
       "      <th></th>\n",
       "    </tr>\n",
       "  </thead>\n",
       "  <tbody>\n",
       "    <tr>\n",
       "      <th>2019-12-24</th>\n",
       "      <td>3.555799</td>\n",
       "      <td>1.597832</td>\n",
       "      <td>2.021334</td>\n",
       "      <td>2.514406</td>\n",
       "      <td>2.529464</td>\n",
       "      <td>3.996063</td>\n",
       "      <td>1.394007</td>\n",
       "      <td>1.130859</td>\n",
       "      <td>1.910244</td>\n",
       "      <td>2.482358</td>\n",
       "      <td>...</td>\n",
       "      <td>3.624311</td>\n",
       "      <td>1.652604</td>\n",
       "      <td>2.048295</td>\n",
       "      <td>2.571391</td>\n",
       "      <td>2.618114</td>\n",
       "      <td>4.061271</td>\n",
       "      <td>1.435725</td>\n",
       "      <td>1.165114</td>\n",
       "      <td>1.893169</td>\n",
       "      <td>2.542528</td>\n",
       "    </tr>\n",
       "    <tr>\n",
       "      <th>2019-12-26</th>\n",
       "      <td>3.689201</td>\n",
       "      <td>1.773359</td>\n",
       "      <td>2.057812</td>\n",
       "      <td>2.581222</td>\n",
       "      <td>2.578577</td>\n",
       "      <td>4.046374</td>\n",
       "      <td>1.401751</td>\n",
       "      <td>1.143284</td>\n",
       "      <td>1.846789</td>\n",
       "      <td>2.506822</td>\n",
       "      <td>...</td>\n",
       "      <td>3.791236</td>\n",
       "      <td>1.846972</td>\n",
       "      <td>2.159334</td>\n",
       "      <td>2.674391</td>\n",
       "      <td>2.685753</td>\n",
       "      <td>4.155538</td>\n",
       "      <td>1.418768</td>\n",
       "      <td>1.178095</td>\n",
       "      <td>1.938037</td>\n",
       "      <td>2.595057</td>\n",
       "    </tr>\n",
       "    <tr>\n",
       "      <th>2019-12-27</th>\n",
       "      <td>3.793773</td>\n",
       "      <td>1.845876</td>\n",
       "      <td>2.097120</td>\n",
       "      <td>2.600560</td>\n",
       "      <td>2.662202</td>\n",
       "      <td>4.086820</td>\n",
       "      <td>1.374907</td>\n",
       "      <td>1.143530</td>\n",
       "      <td>1.876401</td>\n",
       "      <td>2.528291</td>\n",
       "      <td>...</td>\n",
       "      <td>3.747252</td>\n",
       "      <td>1.825805</td>\n",
       "      <td>2.130357</td>\n",
       "      <td>2.594844</td>\n",
       "      <td>2.696576</td>\n",
       "      <td>4.132445</td>\n",
       "      <td>1.378648</td>\n",
       "      <td>1.130541</td>\n",
       "      <td>1.882486</td>\n",
       "      <td>2.562283</td>\n",
       "    </tr>\n",
       "    <tr>\n",
       "      <th>2019-12-30</th>\n",
       "      <td>3.760226</td>\n",
       "      <td>1.805094</td>\n",
       "      <td>2.060644</td>\n",
       "      <td>2.530949</td>\n",
       "      <td>2.605125</td>\n",
       "      <td>4.060678</td>\n",
       "      <td>1.327817</td>\n",
       "      <td>1.092601</td>\n",
       "      <td>1.810830</td>\n",
       "      <td>2.499333</td>\n",
       "      <td>...</td>\n",
       "      <td>3.759705</td>\n",
       "      <td>1.749871</td>\n",
       "      <td>1.992036</td>\n",
       "      <td>2.473045</td>\n",
       "      <td>2.646523</td>\n",
       "      <td>4.021869</td>\n",
       "      <td>1.305440</td>\n",
       "      <td>1.067009</td>\n",
       "      <td>1.705147</td>\n",
       "      <td>2.461987</td>\n",
       "    </tr>\n",
       "    <tr>\n",
       "      <th>2019-12-31</th>\n",
       "      <td>3.786173</td>\n",
       "      <td>1.733046</td>\n",
       "      <td>1.977776</td>\n",
       "      <td>2.440388</td>\n",
       "      <td>2.589196</td>\n",
       "      <td>3.999022</td>\n",
       "      <td>1.284446</td>\n",
       "      <td>1.086143</td>\n",
       "      <td>1.707187</td>\n",
       "      <td>2.441917</td>\n",
       "      <td>...</td>\n",
       "      <td>NaN</td>\n",
       "      <td>NaN</td>\n",
       "      <td>NaN</td>\n",
       "      <td>NaN</td>\n",
       "      <td>NaN</td>\n",
       "      <td>NaN</td>\n",
       "      <td>NaN</td>\n",
       "      <td>NaN</td>\n",
       "      <td>NaN</td>\n",
       "      <td>NaN</td>\n",
       "    </tr>\n",
       "  </tbody>\n",
       "</table>\n",
       "<p>5 rows × 100 columns</p>\n",
       "</div>"
      ],
      "text/plain": [
       "               ASKHI                                                    \\\n",
       "TICKER          AAPL      AMZN        FB      GOOG      INTC      MSFT   \n",
       "date                                                                     \n",
       "2019-12-24  3.555799  1.597832  2.021334  2.514406  2.529464  3.996063   \n",
       "2019-12-26  3.689201  1.773359  2.057812  2.581222  2.578577  4.046374   \n",
       "2019-12-27  3.793773  1.845876  2.097120  2.600560  2.662202  4.086820   \n",
       "2019-12-30  3.760226  1.805094  2.060644  2.530949  2.605125  4.060678   \n",
       "2019-12-31  3.786173  1.733046  1.977776  2.440388  2.589196  3.999022   \n",
       "\n",
       "                                                    ...   OPENTRD            \\\n",
       "TICKER          NFLX      NVDA      ORCL      PYPL  ...      AAPL      AMZN   \n",
       "date                                                ...                       \n",
       "2019-12-24  1.394007  1.130859  1.910244  2.482358  ...  3.624311  1.652604   \n",
       "2019-12-26  1.401751  1.143284  1.846789  2.506822  ...  3.791236  1.846972   \n",
       "2019-12-27  1.374907  1.143530  1.876401  2.528291  ...  3.747252  1.825805   \n",
       "2019-12-30  1.327817  1.092601  1.810830  2.499333  ...  3.759705  1.749871   \n",
       "2019-12-31  1.284446  1.086143  1.707187  2.441917  ...       NaN       NaN   \n",
       "\n",
       "                                                                        \\\n",
       "TICKER            FB      GOOG      INTC      MSFT      NFLX      NVDA   \n",
       "date                                                                     \n",
       "2019-12-24  2.048295  2.571391  2.618114  4.061271  1.435725  1.165114   \n",
       "2019-12-26  2.159334  2.674391  2.685753  4.155538  1.418768  1.178095   \n",
       "2019-12-27  2.130357  2.594844  2.696576  4.132445  1.378648  1.130541   \n",
       "2019-12-30  1.992036  2.473045  2.646523  4.021869  1.305440  1.067009   \n",
       "2019-12-31       NaN       NaN       NaN       NaN       NaN       NaN   \n",
       "\n",
       "                                \n",
       "TICKER          ORCL      PYPL  \n",
       "date                            \n",
       "2019-12-24  1.893169  2.542528  \n",
       "2019-12-26  1.938037  2.595057  \n",
       "2019-12-27  1.882486  2.562283  \n",
       "2019-12-30  1.705147  2.461987  \n",
       "2019-12-31       NaN       NaN  \n",
       "\n",
       "[5 rows x 100 columns]"
      ]
     },
     "execution_count": 10,
     "metadata": {},
     "output_type": "execute_result"
    }
   ],
   "source": [
    "NormPrices.tail()"
   ]
  },
  {
   "cell_type": "markdown",
   "metadata": {},
   "source": [
    "# Visualization & Exploration"
   ]
  },
  {
   "cell_type": "code",
   "execution_count": 11,
   "metadata": {},
   "outputs": [
    {
     "data": {
      "image/png": "[encoded data removed]",
      "text/plain": [
       "<Figure size 1080x1080 with 10 Axes>"
      ]
     },
     "metadata": {
      "needs_background": "light"
     },
     "output_type": "display_data"
    }
   ],
   "source": [
    "#Subplots of alls stocks\n",
    "Tick = ['AAPL' , 'AMZN', 'FB', 'GOOG', 'INTC', 'MSFT', 'NFLX', 'NVDA', 'ORCL', 'PYPL']\n",
    "\n",
    "fig, axs = plt.subplots(5, 2,figsize=(15,15))\n",
    "fig.tight_layout(pad=3.0)\n",
    "\n",
    "for i in range(len(Tick)):\n",
    "    axs[i%5, i%2].plot(NormPrices['PRC',Tick[i]])\n",
    "    axs[i%5, i%2].set_title(Tick[i])\n",
    "    #Added in line where test data will be split\n",
    "    axs[i%5, i%2].axvline(dt.datetime(2018, 12, 31), color='orange')\n"
   ]
  },
  {
   "cell_type": "code",
   "execution_count": 12,
   "metadata": {},
   "outputs": [],
   "source": [
    "#To check how many Nulls etc\n",
    "#UnstackedPrices.info()"
   ]
  },
  {
   "cell_type": "code",
   "execution_count": 13,
   "metadata": {},
   "outputs": [],
   "source": [
    "#To examine values and distibutions/ make sure normalizaiton worked\n",
    "#UnstackedPrices.describe()"
   ]
  },
  {
   "cell_type": "markdown",
   "metadata": {},
   "source": [
    "# Feature Engineering Part 2"
   ]
  },
  {
   "cell_type": "code",
   "execution_count": 14,
   "metadata": {},
   "outputs": [],
   "source": [
    "#Feature names to lag, and steps to lag by\n",
    "Feat = ['PRC','VOL', 'OPENPRC',  'ASKHI', 'BIDLO', 'WKDY'] \n",
    "Steps = 20"
   ]
  },
  {
   "cell_type": "code",
   "execution_count": 15,
   "metadata": {},
   "outputs": [],
   "source": [
    "#Trimming data\n",
    "NormPrices = NormPrices[:-2] #drop two rows, used to calculate returns\n",
    "NormPrices = NormPrices[20:] #drop 20 rows, used to calculate volatility\n",
    "\n",
    "#Need this for unlagged variables\n",
    "NormPrices2 = NormPrices[Steps:] #trim data used to calculate lags\n",
    "NormPrices2 = NormPrices2.stack(dropna=False)\n",
    "NormPrices2 = pd.DataFrame(NormPrices2)\n",
    "NormPrices2.reset_index(inplace=True)\n",
    "NormPrices2.sort_values(by=['TICKER', 'date'], inplace=True)\n",
    "\n",
    "#Unlagged variables, saving for later \n",
    "OPENTRD = NormPrices2['OPENTRD']\n",
    "FIVESTDPRC = NormPrices2['5STDPRC']\n",
    "TWENTYSTDPRC = NormPrices2['20STDPRC']\n",
    "AVGPRC = NormPrices2['5AVGPRC']\n",
    "STDVOL = NormPrices2['5STDVOL']\n",
    "\n",
    "#Restacking Data\n",
    "NormPrices = MyStack(NormPrices)\n",
    "\n",
    "#Adding day of week\n",
    "NormPrices['WKDY'] = NormPrices['date'].dt.dayofweek #lag or dont lag weekeday???\n",
    "NormPrices.reset_index(inplace=True, drop=True)"
   ]
  },
  {
   "cell_type": "code",
   "execution_count": 16,
   "metadata": {},
   "outputs": [],
   "source": [
    "#Function to add lagged variables based on steps, and assembles data frame\n",
    "def LagVar(X, steps, values):\n",
    "    \n",
    "    UnstackX = pd.pivot_table(X, values=values, index=['date'], columns=['TICKER'], aggfunc=np.sum)\n",
    "    UnstackXTrim = UnstackX[steps:]\n",
    "    UnstackXTrim  = MyStack(UnstackXTrim)\n",
    "    UnstackXTrim.reset_index(inplace=True, drop=True)\n",
    "    \n",
    "    X = UnstackXTrim\n",
    "    \n",
    "    for i in range(steps):\n",
    " \n",
    "        Shifted1 = UnstackX.shift(periods=i+1)\n",
    "        Shifted1 = Shifted1[steps:]\n",
    "        Shifted2 = Shifted1.stack(dropna=False)\n",
    "        Shifted2.reset_index(inplace=True)\n",
    "        Shifted2.sort_values(by=['TICKER', 'date'], inplace=True)\n",
    "        Shifted2.reset_index(inplace=True, drop=True)\n",
    "        Shifted3 = Shifted2.add_prefix(('Lag_' + str(i+1) + '_' ))\n",
    "        Shifted3.drop([('Lag_' + str(i+1) + '_date' )], axis=1, inplace=True)\n",
    "        Shifted3.drop([('Lag_' + str(i+1) + '_TICKER' )], axis=1, inplace=True)\n",
    "\n",
    "        X = pd.concat([X, Shifted3], axis = 1)\n",
    "    \n",
    "    return(X)"
   ]
  },
  {
   "cell_type": "code",
   "execution_count": 17,
   "metadata": {},
   "outputs": [
    {
     "data": {
      "text/html": [
       "<div>\n",
       "<style scoped>\n",
       "    .dataframe tbody tr th:only-of-type {\n",
       "        vertical-align: middle;\n",
       "    }\n",
       "\n",
       "    .dataframe tbody tr th {\n",
       "        vertical-align: top;\n",
       "    }\n",
       "\n",
       "    .dataframe thead th {\n",
       "        text-align: right;\n",
       "    }\n",
       "</style>\n",
       "<table border=\"1\" class=\"dataframe\">\n",
       "  <thead>\n",
       "    <tr style=\"text-align: right;\">\n",
       "      <th></th>\n",
       "      <th>date</th>\n",
       "      <th>TICKER</th>\n",
       "      <th>ASKHI</th>\n",
       "      <th>BIDLO</th>\n",
       "      <th>OPENPRC</th>\n",
       "      <th>PRC</th>\n",
       "      <th>VOL</th>\n",
       "      <th>WKDY</th>\n",
       "      <th>Lag_1_ASKHI</th>\n",
       "      <th>Lag_1_BIDLO</th>\n",
       "      <th>...</th>\n",
       "      <th>Lag_19_OPENPRC</th>\n",
       "      <th>Lag_19_PRC</th>\n",
       "      <th>Lag_19_VOL</th>\n",
       "      <th>Lag_19_WKDY</th>\n",
       "      <th>Lag_20_ASKHI</th>\n",
       "      <th>Lag_20_BIDLO</th>\n",
       "      <th>Lag_20_OPENPRC</th>\n",
       "      <th>Lag_20_PRC</th>\n",
       "      <th>Lag_20_VOL</th>\n",
       "      <th>Lag_20_WKDY</th>\n",
       "    </tr>\n",
       "  </thead>\n",
       "  <tbody>\n",
       "    <tr>\n",
       "      <th>0</th>\n",
       "      <td>2016-03-02</td>\n",
       "      <td>AAPL</td>\n",
       "      <td>-1.266602</td>\n",
       "      <td>-1.261195</td>\n",
       "      <td>-1.256156</td>\n",
       "      <td>-1.252633</td>\n",
       "      <td>-0.004563</td>\n",
       "      <td>2</td>\n",
       "      <td>-1.269747</td>\n",
       "      <td>-1.320653</td>\n",
       "      <td>...</td>\n",
       "      <td>-1.402013</td>\n",
       "      <td>-1.369251</td>\n",
       "      <td>0.838201</td>\n",
       "      <td>2.0</td>\n",
       "      <td>-1.393714</td>\n",
       "      <td>-1.404751</td>\n",
       "      <td>-1.390895</td>\n",
       "      <td>-1.418814</td>\n",
       "      <td>0.269771</td>\n",
       "      <td>1.0</td>\n",
       "    </tr>\n",
       "    <tr>\n",
       "      <th>1</th>\n",
       "      <td>2016-03-03</td>\n",
       "      <td>AAPL</td>\n",
       "      <td>-1.245114</td>\n",
       "      <td>-1.239501</td>\n",
       "      <td>-1.254303</td>\n",
       "      <td>-1.232755</td>\n",
       "      <td>0.244027</td>\n",
       "      <td>3</td>\n",
       "      <td>-1.266602</td>\n",
       "      <td>-1.261195</td>\n",
       "      <td>...</td>\n",
       "      <td>-1.379248</td>\n",
       "      <td>-1.362625</td>\n",
       "      <td>0.866888</td>\n",
       "      <td>3.0</td>\n",
       "      <td>-1.372748</td>\n",
       "      <td>-1.410107</td>\n",
       "      <td>-1.402013</td>\n",
       "      <td>-1.369251</td>\n",
       "      <td>0.838201</td>\n",
       "      <td>2.0</td>\n",
       "    </tr>\n",
       "    <tr>\n",
       "      <th>2</th>\n",
       "      <td>2016-03-04</td>\n",
       "      <td>AAPL</td>\n",
       "      <td>-1.191645</td>\n",
       "      <td>-1.214861</td>\n",
       "      <td>-1.206920</td>\n",
       "      <td>-1.192734</td>\n",
       "      <td>0.843501</td>\n",
       "      <td>4</td>\n",
       "      <td>-1.245114</td>\n",
       "      <td>-1.239501</td>\n",
       "      <td>...</td>\n",
       "      <td>-1.361777</td>\n",
       "      <td>-1.431005</td>\n",
       "      <td>0.863348</td>\n",
       "      <td>4.0</td>\n",
       "      <td>-1.359905</td>\n",
       "      <td>-1.380378</td>\n",
       "      <td>-1.379248</td>\n",
       "      <td>-1.362625</td>\n",
       "      <td>0.866888</td>\n",
       "      <td>3.0</td>\n",
       "    </tr>\n",
       "    <tr>\n",
       "      <th>3</th>\n",
       "      <td>2016-03-07</td>\n",
       "      <td>AAPL</td>\n",
       "      <td>-1.215757</td>\n",
       "      <td>-1.225842</td>\n",
       "      <td>-1.206390</td>\n",
       "      <td>-1.222948</td>\n",
       "      <td>0.175583</td>\n",
       "      <td>0</td>\n",
       "      <td>-1.191645</td>\n",
       "      <td>-1.214861</td>\n",
       "      <td>...</td>\n",
       "      <td>-1.451514</td>\n",
       "      <td>-1.404766</td>\n",
       "      <td>1.361416</td>\n",
       "      <td>0.0</td>\n",
       "      <td>-1.370651</td>\n",
       "      <td>-1.420552</td>\n",
       "      <td>-1.361777</td>\n",
       "      <td>-1.431005</td>\n",
       "      <td>0.863348</td>\n",
       "      <td>4.0</td>\n",
       "    </tr>\n",
       "    <tr>\n",
       "      <th>4</th>\n",
       "      <td>2016-03-08</td>\n",
       "      <td>AAPL</td>\n",
       "      <td>-1.243801</td>\n",
       "      <td>-1.240840</td>\n",
       "      <td>-1.249009</td>\n",
       "      <td>-1.245212</td>\n",
       "      <td>-0.109882</td>\n",
       "      <td>1</td>\n",
       "      <td>-1.215757</td>\n",
       "      <td>-1.225842</td>\n",
       "      <td>...</td>\n",
       "      <td>-1.420807</td>\n",
       "      <td>-1.405296</td>\n",
       "      <td>0.726635</td>\n",
       "      <td>1.0</td>\n",
       "      <td>-1.402625</td>\n",
       "      <td>-1.437961</td>\n",
       "      <td>-1.451514</td>\n",
       "      <td>-1.404766</td>\n",
       "      <td>1.361416</td>\n",
       "      <td>0.0</td>\n",
       "    </tr>\n",
       "  </tbody>\n",
       "</table>\n",
       "<p>5 rows × 128 columns</p>\n",
       "</div>"
      ],
      "text/plain": [
       "        date TICKER     ASKHI     BIDLO   OPENPRC       PRC       VOL  WKDY  \\\n",
       "0 2016-03-02   AAPL -1.266602 -1.261195 -1.256156 -1.252633 -0.004563     2   \n",
       "1 2016-03-03   AAPL -1.245114 -1.239501 -1.254303 -1.232755  0.244027     3   \n",
       "2 2016-03-04   AAPL -1.191645 -1.214861 -1.206920 -1.192734  0.843501     4   \n",
       "3 2016-03-07   AAPL -1.215757 -1.225842 -1.206390 -1.222948  0.175583     0   \n",
       "4 2016-03-08   AAPL -1.243801 -1.240840 -1.249009 -1.245212 -0.109882     1   \n",
       "\n",
       "   Lag_1_ASKHI  Lag_1_BIDLO  ...  Lag_19_OPENPRC  Lag_19_PRC  Lag_19_VOL  \\\n",
       "0    -1.269747    -1.320653  ...       -1.402013   -1.369251    0.838201   \n",
       "1    -1.266602    -1.261195  ...       -1.379248   -1.362625    0.866888   \n",
       "2    -1.245114    -1.239501  ...       -1.361777   -1.431005    0.863348   \n",
       "3    -1.191645    -1.214861  ...       -1.451514   -1.404766    1.361416   \n",
       "4    -1.215757    -1.225842  ...       -1.420807   -1.405296    0.726635   \n",
       "\n",
       "   Lag_19_WKDY  Lag_20_ASKHI  Lag_20_BIDLO  Lag_20_OPENPRC  Lag_20_PRC  \\\n",
       "0          2.0     -1.393714     -1.404751       -1.390895   -1.418814   \n",
       "1          3.0     -1.372748     -1.410107       -1.402013   -1.369251   \n",
       "2          4.0     -1.359905     -1.380378       -1.379248   -1.362625   \n",
       "3          0.0     -1.370651     -1.420552       -1.361777   -1.431005   \n",
       "4          1.0     -1.402625     -1.437961       -1.451514   -1.404766   \n",
       "\n",
       "   Lag_20_VOL  Lag_20_WKDY  \n",
       "0    0.269771          1.0  \n",
       "1    0.838201          2.0  \n",
       "2    0.866888          3.0  \n",
       "3    0.863348          4.0  \n",
       "4    1.361416          0.0  \n",
       "\n",
       "[5 rows x 128 columns]"
      ]
     },
     "execution_count": 17,
     "metadata": {},
     "output_type": "execute_result"
    }
   ],
   "source": [
    "#Lagging data\n",
    "LagData = LagVar(NormPrices, Steps, Feat) \n",
    "LagData.reset_index(inplace=True, drop=True)\n",
    "LagData.head() #Check for NaNs"
   ]
  },
  {
   "cell_type": "code",
   "execution_count": 18,
   "metadata": {},
   "outputs": [
    {
     "data": {
      "text/html": [
       "<div>\n",
       "<style scoped>\n",
       "    .dataframe tbody tr th:only-of-type {\n",
       "        vertical-align: middle;\n",
       "    }\n",
       "\n",
       "    .dataframe tbody tr th {\n",
       "        vertical-align: top;\n",
       "    }\n",
       "\n",
       "    .dataframe thead th {\n",
       "        text-align: right;\n",
       "    }\n",
       "</style>\n",
       "<table border=\"1\" class=\"dataframe\">\n",
       "  <thead>\n",
       "    <tr style=\"text-align: right;\">\n",
       "      <th></th>\n",
       "      <th>date</th>\n",
       "      <th>TICKER</th>\n",
       "      <th>ASKHI</th>\n",
       "      <th>BIDLO</th>\n",
       "      <th>OPENPRC</th>\n",
       "      <th>PRC</th>\n",
       "      <th>VOL</th>\n",
       "      <th>WKDY</th>\n",
       "      <th>Lag_1_ASKHI</th>\n",
       "      <th>Lag_1_BIDLO</th>\n",
       "      <th>...</th>\n",
       "      <th>Lag_19_OPENPRC</th>\n",
       "      <th>Lag_19_PRC</th>\n",
       "      <th>Lag_19_VOL</th>\n",
       "      <th>Lag_19_WKDY</th>\n",
       "      <th>Lag_20_ASKHI</th>\n",
       "      <th>Lag_20_BIDLO</th>\n",
       "      <th>Lag_20_OPENPRC</th>\n",
       "      <th>Lag_20_PRC</th>\n",
       "      <th>Lag_20_VOL</th>\n",
       "      <th>Lag_20_WKDY</th>\n",
       "    </tr>\n",
       "  </thead>\n",
       "  <tbody>\n",
       "    <tr>\n",
       "      <th>9635</th>\n",
       "      <td>2019-12-20</td>\n",
       "      <td>PYPL</td>\n",
       "      <td>2.500332</td>\n",
       "      <td>2.569228</td>\n",
       "      <td>2.553239</td>\n",
       "      <td>2.528225</td>\n",
       "      <td>0.305868</td>\n",
       "      <td>4</td>\n",
       "      <td>2.466381</td>\n",
       "      <td>2.534768</td>\n",
       "      <td>...</td>\n",
       "      <td>2.231083</td>\n",
       "      <td>2.174361</td>\n",
       "      <td>-0.465589</td>\n",
       "      <td>4.0</td>\n",
       "      <td>2.243207</td>\n",
       "      <td>2.261659</td>\n",
       "      <td>2.235136</td>\n",
       "      <td>2.213904</td>\n",
       "      <td>-0.219171</td>\n",
       "      <td>3.0</td>\n",
       "    </tr>\n",
       "    <tr>\n",
       "      <th>9636</th>\n",
       "      <td>2019-12-23</td>\n",
       "      <td>PYPL</td>\n",
       "      <td>2.491844</td>\n",
       "      <td>2.582087</td>\n",
       "      <td>2.541589</td>\n",
       "      <td>2.521128</td>\n",
       "      <td>-0.874720</td>\n",
       "      <td>0</td>\n",
       "      <td>2.500332</td>\n",
       "      <td>2.569228</td>\n",
       "      <td>...</td>\n",
       "      <td>2.203730</td>\n",
       "      <td>2.310228</td>\n",
       "      <td>-0.034317</td>\n",
       "      <td>0.0</td>\n",
       "      <td>2.181297</td>\n",
       "      <td>2.188110</td>\n",
       "      <td>2.231083</td>\n",
       "      <td>2.174361</td>\n",
       "      <td>-0.465589</td>\n",
       "      <td>4.0</td>\n",
       "    </tr>\n",
       "    <tr>\n",
       "      <th>9637</th>\n",
       "      <td>2019-12-24</td>\n",
       "      <td>PYPL</td>\n",
       "      <td>2.482358</td>\n",
       "      <td>2.582087</td>\n",
       "      <td>2.520821</td>\n",
       "      <td>2.525184</td>\n",
       "      <td>-1.550875</td>\n",
       "      <td>1</td>\n",
       "      <td>2.491844</td>\n",
       "      <td>2.582087</td>\n",
       "      <td>...</td>\n",
       "      <td>2.326312</td>\n",
       "      <td>2.398948</td>\n",
       "      <td>1.061867</td>\n",
       "      <td>1.0</td>\n",
       "      <td>2.248199</td>\n",
       "      <td>2.257030</td>\n",
       "      <td>2.203730</td>\n",
       "      <td>2.310228</td>\n",
       "      <td>-0.034317</td>\n",
       "      <td>0.0</td>\n",
       "    </tr>\n",
       "    <tr>\n",
       "      <th>9638</th>\n",
       "      <td>2019-12-26</td>\n",
       "      <td>PYPL</td>\n",
       "      <td>2.506822</td>\n",
       "      <td>2.591859</td>\n",
       "      <td>2.545641</td>\n",
       "      <td>2.578922</td>\n",
       "      <td>-1.011254</td>\n",
       "      <td>3</td>\n",
       "      <td>2.482358</td>\n",
       "      <td>2.582087</td>\n",
       "      <td>...</td>\n",
       "      <td>2.432177</td>\n",
       "      <td>2.477528</td>\n",
       "      <td>-0.213383</td>\n",
       "      <td>2.0</td>\n",
       "      <td>2.358539</td>\n",
       "      <td>2.382527</td>\n",
       "      <td>2.326312</td>\n",
       "      <td>2.398948</td>\n",
       "      <td>1.061867</td>\n",
       "      <td>1.0</td>\n",
       "    </tr>\n",
       "    <tr>\n",
       "      <th>9639</th>\n",
       "      <td>2019-12-27</td>\n",
       "      <td>PYPL</td>\n",
       "      <td>2.528291</td>\n",
       "      <td>2.608832</td>\n",
       "      <td>2.598168</td>\n",
       "      <td>2.561178</td>\n",
       "      <td>-1.163451</td>\n",
       "      <td>4</td>\n",
       "      <td>2.506822</td>\n",
       "      <td>2.591859</td>\n",
       "      <td>...</td>\n",
       "      <td>2.486883</td>\n",
       "      <td>2.490710</td>\n",
       "      <td>-0.921634</td>\n",
       "      <td>4.0</td>\n",
       "      <td>2.431432</td>\n",
       "      <td>2.500822</td>\n",
       "      <td>2.432177</td>\n",
       "      <td>2.477528</td>\n",
       "      <td>-0.213383</td>\n",
       "      <td>2.0</td>\n",
       "    </tr>\n",
       "  </tbody>\n",
       "</table>\n",
       "<p>5 rows × 128 columns</p>\n",
       "</div>"
      ],
      "text/plain": [
       "           date TICKER     ASKHI     BIDLO   OPENPRC       PRC       VOL  \\\n",
       "9635 2019-12-20   PYPL  2.500332  2.569228  2.553239  2.528225  0.305868   \n",
       "9636 2019-12-23   PYPL  2.491844  2.582087  2.541589  2.521128 -0.874720   \n",
       "9637 2019-12-24   PYPL  2.482358  2.582087  2.520821  2.525184 -1.550875   \n",
       "9638 2019-12-26   PYPL  2.506822  2.591859  2.545641  2.578922 -1.011254   \n",
       "9639 2019-12-27   PYPL  2.528291  2.608832  2.598168  2.561178 -1.163451   \n",
       "\n",
       "      WKDY  Lag_1_ASKHI  Lag_1_BIDLO  ...  Lag_19_OPENPRC  Lag_19_PRC  \\\n",
       "9635     4     2.466381     2.534768  ...        2.231083    2.174361   \n",
       "9636     0     2.500332     2.569228  ...        2.203730    2.310228   \n",
       "9637     1     2.491844     2.582087  ...        2.326312    2.398948   \n",
       "9638     3     2.482358     2.582087  ...        2.432177    2.477528   \n",
       "9639     4     2.506822     2.591859  ...        2.486883    2.490710   \n",
       "\n",
       "      Lag_19_VOL  Lag_19_WKDY  Lag_20_ASKHI  Lag_20_BIDLO  Lag_20_OPENPRC  \\\n",
       "9635   -0.465589          4.0      2.243207      2.261659        2.235136   \n",
       "9636   -0.034317          0.0      2.181297      2.188110        2.231083   \n",
       "9637    1.061867          1.0      2.248199      2.257030        2.203730   \n",
       "9638   -0.213383          2.0      2.358539      2.382527        2.326312   \n",
       "9639   -0.921634          4.0      2.431432      2.500822        2.432177   \n",
       "\n",
       "      Lag_20_PRC  Lag_20_VOL  Lag_20_WKDY  \n",
       "9635    2.213904   -0.219171          3.0  \n",
       "9636    2.174361   -0.465589          4.0  \n",
       "9637    2.310228   -0.034317          0.0  \n",
       "9638    2.398948    1.061867          1.0  \n",
       "9639    2.477528   -0.213383          2.0  \n",
       "\n",
       "[5 rows x 128 columns]"
      ]
     },
     "execution_count": 18,
     "metadata": {},
     "output_type": "execute_result"
    }
   ],
   "source": [
    "LagData.tail() #Check for NaNs if issue"
   ]
  },
  {
   "cell_type": "markdown",
   "metadata": {},
   "source": [
    "# Target"
   ]
  },
  {
   "cell_type": "code",
   "execution_count": 19,
   "metadata": {},
   "outputs": [],
   "source": [
    "#Close price from next day\n",
    "ClosePrc = UnstackedPrices['PRC'].shift(periods=-1)\n",
    "ClosePrc = ClosePrc[:-2]\n",
    "ClosePrc = ClosePrc[Steps+20:]\n",
    "ClosePrc = ClosePrc.stack(dropna=False)\n",
    "ClosePrc = pd.DataFrame(ClosePrc)\n",
    "ClosePrc.reset_index(inplace=True)\n",
    "ClosePrc.sort_values(by=['TICKER', 'date'], inplace=True)\n",
    "ClosePrc.rename({0: 'PRC'}, axis=1, inplace = True)\n",
    "\n",
    "#Open price from day after\n",
    "OpenPrc2 = UnstackedPrices['OPENPRC'].shift(periods=-2)\n",
    "OpenPrc2 = OpenPrc2[:-2]\n",
    "OpenPrc2 = OpenPrc2[Steps+20:]\n",
    "OpenPrc2 = OpenPrc2.stack(dropna=False)\n",
    "OpenPrc2 = pd.DataFrame(OpenPrc2)\n",
    "OpenPrc2.reset_index(inplace=True)\n",
    "OpenPrc2.sort_values(by=['TICKER', 'date'], inplace=True)\n",
    "OpenPrc2.rename({0: 'OPENPRC'}, axis=1, inplace = True)"
   ]
  },
  {
   "cell_type": "code",
   "execution_count": 20,
   "metadata": {},
   "outputs": [],
   "source": [
    "#Calculating Log Returns\n",
    "OpenPrc2['ClosePrc'] = ClosePrc['PRC']\n",
    "OpenPrc2['Returns'] = np.log(OpenPrc2['OPENPRC']/OpenPrc2['ClosePrc'])\n",
    "Returns = pd.DataFrame(OpenPrc2['Returns'])\n",
    "Returns.reset_index(inplace=True, drop=True)"
   ]
  },
  {
   "cell_type": "code",
   "execution_count": 21,
   "metadata": {},
   "outputs": [
    {
     "data": {
      "text/plain": [
       "array([[<AxesSubplot:title={'center':'Returns'}>]], dtype=object)"
      ]
     },
     "execution_count": 21,
     "metadata": {},
     "output_type": "execute_result"
    },
    {
     "data": {
      "image/png": "[encoded data removed]",
      "text/plain": [
       "<Figure size 432x288 with 1 Axes>"
      ]
     },
     "metadata": {
      "needs_background": "light"
     },
     "output_type": "display_data"
    }
   ],
   "source": [
    "#Distribution of returns\n",
    "Returns.hist(bins=100)"
   ]
  },
  {
   "cell_type": "code",
   "execution_count": 22,
   "metadata": {},
   "outputs": [],
   "source": [
    "#Add year for splitting based on year\n",
    "LagData['YEAR'] = LagData['date'].dt.year\n",
    "\n",
    "#Adding back unlagged variables\n",
    "LagData['RET'] = Returns \n",
    "LagData['OPENTRD'] = OPENTRD\n",
    "LagData['5STDPRC'] = FIVESTDPRC\n",
    "LagData['20STDPRC'] = TWENTYSTDPRC\n",
    "LagData['5AVGPRC'] = AVGPRC\n",
    "LagData['5STDVOL'] = STDVOL"
   ]
  },
  {
   "cell_type": "code",
   "execution_count": 23,
   "metadata": {},
   "outputs": [
    {
     "data": {
      "text/html": [
       "<div>\n",
       "<style scoped>\n",
       "    .dataframe tbody tr th:only-of-type {\n",
       "        vertical-align: middle;\n",
       "    }\n",
       "\n",
       "    .dataframe tbody tr th {\n",
       "        vertical-align: top;\n",
       "    }\n",
       "\n",
       "    .dataframe thead th {\n",
       "        text-align: right;\n",
       "    }\n",
       "</style>\n",
       "<table border=\"1\" class=\"dataframe\">\n",
       "  <thead>\n",
       "    <tr style=\"text-align: right;\">\n",
       "      <th></th>\n",
       "      <th>date</th>\n",
       "      <th>TICKER</th>\n",
       "      <th>ASKHI</th>\n",
       "      <th>BIDLO</th>\n",
       "      <th>OPENPRC</th>\n",
       "      <th>PRC</th>\n",
       "      <th>VOL</th>\n",
       "      <th>WKDY</th>\n",
       "      <th>Lag_1_ASKHI</th>\n",
       "      <th>Lag_1_BIDLO</th>\n",
       "      <th>...</th>\n",
       "      <th>Lag_20_PRC</th>\n",
       "      <th>Lag_20_VOL</th>\n",
       "      <th>Lag_20_WKDY</th>\n",
       "      <th>YEAR</th>\n",
       "      <th>RET</th>\n",
       "      <th>OPENTRD</th>\n",
       "      <th>5STDPRC</th>\n",
       "      <th>20STDPRC</th>\n",
       "      <th>5AVGPRC</th>\n",
       "      <th>5STDVOL</th>\n",
       "    </tr>\n",
       "  </thead>\n",
       "  <tbody>\n",
       "    <tr>\n",
       "      <th>0</th>\n",
       "      <td>2016-03-02</td>\n",
       "      <td>AAPL</td>\n",
       "      <td>-1.266602</td>\n",
       "      <td>-1.261195</td>\n",
       "      <td>-1.256156</td>\n",
       "      <td>-1.252633</td>\n",
       "      <td>-0.004563</td>\n",
       "      <td>2</td>\n",
       "      <td>-1.269747</td>\n",
       "      <td>-1.320653</td>\n",
       "      <td>...</td>\n",
       "      <td>-1.418814</td>\n",
       "      <td>0.269771</td>\n",
       "      <td>1.0</td>\n",
       "      <td>2016</td>\n",
       "      <td>0.008535</td>\n",
       "      <td>-1.257315</td>\n",
       "      <td>0.177648</td>\n",
       "      <td>-0.775594</td>\n",
       "      <td>-1.320622</td>\n",
       "      <td>-1.320622</td>\n",
       "    </tr>\n",
       "    <tr>\n",
       "      <th>1</th>\n",
       "      <td>2016-03-03</td>\n",
       "      <td>AAPL</td>\n",
       "      <td>-1.245114</td>\n",
       "      <td>-1.239501</td>\n",
       "      <td>-1.254303</td>\n",
       "      <td>-1.232755</td>\n",
       "      <td>0.244027</td>\n",
       "      <td>3</td>\n",
       "      <td>-1.266602</td>\n",
       "      <td>-1.261195</td>\n",
       "      <td>...</td>\n",
       "      <td>-1.369251</td>\n",
       "      <td>0.838201</td>\n",
       "      <td>2.0</td>\n",
       "      <td>2016</td>\n",
       "      <td>-0.006037</td>\n",
       "      <td>-1.249616</td>\n",
       "      <td>-0.181427</td>\n",
       "      <td>-0.102754</td>\n",
       "      <td>-1.282946</td>\n",
       "      <td>-1.282946</td>\n",
       "    </tr>\n",
       "    <tr>\n",
       "      <th>2</th>\n",
       "      <td>2016-03-04</td>\n",
       "      <td>AAPL</td>\n",
       "      <td>-1.191645</td>\n",
       "      <td>-1.214861</td>\n",
       "      <td>-1.206920</td>\n",
       "      <td>-1.192734</td>\n",
       "      <td>0.843501</td>\n",
       "      <td>4</td>\n",
       "      <td>-1.245114</td>\n",
       "      <td>-1.239501</td>\n",
       "      <td>...</td>\n",
       "      <td>-1.362625</td>\n",
       "      <td>0.866888</td>\n",
       "      <td>3.0</td>\n",
       "      <td>2016</td>\n",
       "      <td>-0.010758</td>\n",
       "      <td>-1.362924</td>\n",
       "      <td>-0.372550</td>\n",
       "      <td>-0.022999</td>\n",
       "      <td>-1.431693</td>\n",
       "      <td>-1.431693</td>\n",
       "    </tr>\n",
       "    <tr>\n",
       "      <th>3</th>\n",
       "      <td>2016-03-07</td>\n",
       "      <td>AAPL</td>\n",
       "      <td>-1.215757</td>\n",
       "      <td>-1.225842</td>\n",
       "      <td>-1.206390</td>\n",
       "      <td>-1.222948</td>\n",
       "      <td>0.175583</td>\n",
       "      <td>0</td>\n",
       "      <td>-1.191645</td>\n",
       "      <td>-1.214861</td>\n",
       "      <td>...</td>\n",
       "      <td>-1.431005</td>\n",
       "      <td>0.863348</td>\n",
       "      <td>4.0</td>\n",
       "      <td>2016</td>\n",
       "      <td>0.002768</td>\n",
       "      <td>-1.271137</td>\n",
       "      <td>-0.211773</td>\n",
       "      <td>-0.601101</td>\n",
       "      <td>-1.330781</td>\n",
       "      <td>-1.330781</td>\n",
       "    </tr>\n",
       "    <tr>\n",
       "      <th>4</th>\n",
       "      <td>2016-03-08</td>\n",
       "      <td>AAPL</td>\n",
       "      <td>-1.243801</td>\n",
       "      <td>-1.240840</td>\n",
       "      <td>-1.249009</td>\n",
       "      <td>-1.245212</td>\n",
       "      <td>-0.109882</td>\n",
       "      <td>1</td>\n",
       "      <td>-1.215757</td>\n",
       "      <td>-1.225842</td>\n",
       "      <td>...</td>\n",
       "      <td>-1.404766</td>\n",
       "      <td>1.361416</td>\n",
       "      <td>0.0</td>\n",
       "      <td>2016</td>\n",
       "      <td>0.002864</td>\n",
       "      <td>-1.207542</td>\n",
       "      <td>-0.201640</td>\n",
       "      <td>-0.639447</td>\n",
       "      <td>-1.367950</td>\n",
       "      <td>-1.367950</td>\n",
       "    </tr>\n",
       "  </tbody>\n",
       "</table>\n",
       "<p>5 rows × 135 columns</p>\n",
       "</div>"
      ],
      "text/plain": [
       "        date TICKER     ASKHI     BIDLO   OPENPRC       PRC       VOL  WKDY  \\\n",
       "0 2016-03-02   AAPL -1.266602 -1.261195 -1.256156 -1.252633 -0.004563     2   \n",
       "1 2016-03-03   AAPL -1.245114 -1.239501 -1.254303 -1.232755  0.244027     3   \n",
       "2 2016-03-04   AAPL -1.191645 -1.214861 -1.206920 -1.192734  0.843501     4   \n",
       "3 2016-03-07   AAPL -1.215757 -1.225842 -1.206390 -1.222948  0.175583     0   \n",
       "4 2016-03-08   AAPL -1.243801 -1.240840 -1.249009 -1.245212 -0.109882     1   \n",
       "\n",
       "   Lag_1_ASKHI  Lag_1_BIDLO  ...  Lag_20_PRC  Lag_20_VOL  Lag_20_WKDY  YEAR  \\\n",
       "0    -1.269747    -1.320653  ...   -1.418814    0.269771          1.0  2016   \n",
       "1    -1.266602    -1.261195  ...   -1.369251    0.838201          2.0  2016   \n",
       "2    -1.245114    -1.239501  ...   -1.362625    0.866888          3.0  2016   \n",
       "3    -1.191645    -1.214861  ...   -1.431005    0.863348          4.0  2016   \n",
       "4    -1.215757    -1.225842  ...   -1.404766    1.361416          0.0  2016   \n",
       "\n",
       "        RET   OPENTRD   5STDPRC  20STDPRC   5AVGPRC   5STDVOL  \n",
       "0  0.008535 -1.257315  0.177648 -0.775594 -1.320622 -1.320622  \n",
       "1 -0.006037 -1.249616 -0.181427 -0.102754 -1.282946 -1.282946  \n",
       "2 -0.010758 -1.362924 -0.372550 -0.022999 -1.431693 -1.431693  \n",
       "3  0.002768 -1.271137 -0.211773 -0.601101 -1.330781 -1.330781  \n",
       "4  0.002864 -1.207542 -0.201640 -0.639447 -1.367950 -1.367950  \n",
       "\n",
       "[5 rows x 135 columns]"
      ]
     },
     "execution_count": 23,
     "metadata": {},
     "output_type": "execute_result"
    }
   ],
   "source": [
    "LagData.head()"
   ]
  },
  {
   "cell_type": "markdown",
   "metadata": {},
   "source": [
    "# Splitting Data"
   ]
  },
  {
   "cell_type": "code",
   "execution_count": 24,
   "metadata": {},
   "outputs": [],
   "source": [
    "#Splitting data, 2019 is test set\n",
    "X_train = LagData[LagData['YEAR'] != TestYear]\n",
    "X_train.drop(['RET', 'YEAR', 'date', 'TICKER'], axis=1, inplace=True)\n",
    "\n",
    "y_train = LagData[LagData['YEAR'] != TestYear]\n",
    "y_train = y_train['RET']\n",
    "\n",
    "X_test = LagData[LagData['YEAR'] == TestYear]\n",
    "X_test.drop(['RET', 'YEAR', 'date', 'TICKER'], axis=1, inplace=True)\n",
    "\n",
    "y_test = LagData[LagData['YEAR'] == TestYear]\n",
    "y_test = y_test['RET']"
   ]
  },
  {
   "cell_type": "markdown",
   "metadata": {},
   "source": [
    "# Model Implementation (WIP)"
   ]
  },
  {
   "cell_type": "code",
   "execution_count": 25,
   "metadata": {},
   "outputs": [
    {
     "name": "stdout",
     "output_type": "stream",
     "text": [
      "{'n_estimators': [25, 50, 75, 100], 'max_features': ['auto', 'sqrt'], 'max_depth': [2, 3, 5, 7, 10], 'min_samples_leaf': [10, 20, 30, 40, 50], 'bootstrap': [True]}\n",
      "{'n_estimators': 75, 'min_samples_leaf': 40, 'max_features': 'auto', 'max_depth': 10, 'bootstrap': True}\n"
     ]
    }
   ],
   "source": [
    "# Set up hyperparameter tuning for Random Forest\n",
    "# Number of trees in random forest\n",
    "n_estimators = [25, 50, 75, 100]\n",
    "# Number of features to consider at every split\n",
    "max_features = ['auto', 'sqrt']\n",
    "# Maximum number of levels in tree\n",
    "max_depth = [2, 3, 5, 7, 10]\n",
    "# Minimum number of samples required to split a node\n",
    "# min_samples_split = [2, 5, 10]\n",
    "# Minimum number of samples required at each leaf node\n",
    "min_samples_leaf = [10, 20, 30, 40, 50]\n",
    "# Method of selecting samples for training each tree\n",
    "bootstrap = [True]\n",
    "\n",
    "rf_grid = {'n_estimators': n_estimators,\n",
    "           'max_features': max_features,\n",
    "           'max_depth': max_depth,\n",
    "           'min_samples_leaf': min_samples_leaf,\n",
    "           'bootstrap': bootstrap}\n",
    "print(rf_grid)\n",
    "\n",
    "# Initialize model\n",
    "rf = RandomForestRegressor()\n",
    "# Random search of parameters, using 3 fold cross validation, \n",
    "cv = RandomizedSearchCV(rf, rf_grid, n_iter=10, cv=3, random_state=42, n_jobs = -1)\n",
    "# Fit the random search model\n",
    "cv.fit(X_train, y_train)\n",
    "\n",
    "# Get best model\n",
    "print(cv.best_params_)"
   ]
  },
  {
   "cell_type": "code",
   "execution_count": 26,
   "metadata": {},
   "outputs": [
    {
     "data": {
      "text/plain": [
       "RandomForestRegressor(max_depth=10, min_samples_leaf=40, n_estimators=75,\n",
       "                      random_state=42)"
      ]
     },
     "execution_count": 26,
     "metadata": {},
     "output_type": "execute_result"
    }
   ],
   "source": [
    "# Re-train on full dataset using best parameters\n",
    "rf_best = RandomForestRegressor(n_estimators = 75, \n",
    "                                min_samples_leaf = 40,\n",
    "                                max_features = 'auto',\n",
    "                                max_depth = 10,\n",
    "                                bootstrap = True, \n",
    "                                random_state=42)\n",
    "\n",
    "rf_best.fit(X_train, y_train)"
   ]
  },
  {
   "cell_type": "code",
   "execution_count": 27,
   "metadata": {},
   "outputs": [
    {
     "data": {
      "text/plain": [
       "<AxesSubplot:>"
      ]
     },
     "execution_count": 27,
     "metadata": {},
     "output_type": "execute_result"
    },
    {
     "data": {
      "image/png": "[encoded data removed]",
      "text/plain": [
       "<Figure size 576x576 with 1 Axes>"
      ]
     },
     "metadata": {
      "needs_background": "light"
     },
     "output_type": "display_data"
    }
   ],
   "source": [
    "#Feature Importance\n",
    "feat_importances = pd.Series(rf_best.feature_importances_, index=X_train.columns)\n",
    "feat_importances.nlargest(30).plot(kind='barh', figsize=(8,8))"
   ]
  },
  {
   "cell_type": "code",
   "execution_count": 28,
   "metadata": {},
   "outputs": [
    {
     "name": "stdout",
     "output_type": "stream",
     "text": [
      "{'n_estimators': [25, 50, 75, 100], 'max_depth': [2, 3, 5, 7, 10], 'learning_rate': [0.1, 0.2, 0.3, 0.4]}\n",
      "[21:38:28] WARNING: src/objective/regression_obj.cu:152: reg:linear is now deprecated in favor of reg:squarederror.\n",
      "{'n_estimators': 75, 'max_depth': 5, 'learning_rate': 0.1}\n"
     ]
    }
   ],
   "source": [
    "# Set up hyperparameter tuning for Gradient Boosted Trees (XGBoost)\n",
    "\n",
    "# Number of trees \n",
    "n_estimators = [25, 50, 75, 100]\n",
    "# Maximum number of levels in tree\n",
    "max_depth = [2, 3, 5, 7, 10]\n",
    "# Learning rate to prevent overfitting\n",
    "learning_rate = [0.1, 0.2, 0.3, 0.4]\n",
    "\n",
    "xgb_grid = {'n_estimators': n_estimators,\n",
    "            'max_depth': max_depth,\n",
    "            'learning_rate': learning_rate}\n",
    "print(xgb_grid)\n",
    "\n",
    "# Initialize model\n",
    "xgbreg = XGBRegressor(nthreads=-1)\n",
    "# Random search of parameters, using 3 fold cross validation, \n",
    "cv = RandomizedSearchCV(xgbreg, xgb_grid, cv=3, n_iter=10, random_state=42, n_jobs=-1)  \n",
    "# Fit the random search model\n",
    "cv.fit(X_train, y_train)\n",
    "\n",
    "# Get best model\n",
    "print(cv.best_params_)"
   ]
  },
  {
   "cell_type": "code",
   "execution_count": 29,
   "metadata": {},
   "outputs": [
    {
     "name": "stdout",
     "output_type": "stream",
     "text": [
      "[21:38:32] WARNING: src/objective/regression_obj.cu:152: reg:linear is now deprecated in favor of reg:squarederror.\n"
     ]
    },
    {
     "data": {
      "text/plain": [
       "XGBRegressor(max_depth=5, n_estimators=75, random_state=42)"
      ]
     },
     "execution_count": 29,
     "metadata": {},
     "output_type": "execute_result"
    }
   ],
   "source": [
    "# Re-train on full dataset using best parameters\n",
    "xgbreg_best = XGBRegressor(n_estimators = 75, max_depth = 5, learning_rate = 0.1, random_state=42)\n",
    "\n",
    "xgbreg_best.fit(X_train, y_train)"
   ]
  },
  {
   "cell_type": "code",
   "execution_count": 30,
   "metadata": {},
   "outputs": [
    {
     "data": {
      "text/plain": [
       "<AxesSubplot:>"
      ]
     },
     "execution_count": 30,
     "metadata": {},
     "output_type": "execute_result"
    },
    {
     "data": {
      "image/png": "[encoded data removed]",
      "text/plain": [
       "<Figure size 576x576 with 1 Axes>"
      ]
     },
     "metadata": {
      "needs_background": "light"
     },
     "output_type": "display_data"
    }
   ],
   "source": [
    "#Feature Importance\n",
    "feat_importances = pd.Series(xgbreg_best.feature_importances_, index=X_train.columns)\n",
    "feat_importances.nlargest(30).plot(kind='barh', figsize=(8,8))"
   ]
  },
  {
   "cell_type": "markdown",
   "metadata": {},
   "source": [
    "# Model Evaluation (WIP)"
   ]
  },
  {
   "cell_type": "code",
   "execution_count": 31,
   "metadata": {},
   "outputs": [],
   "source": [
    "# mean_squared_error(y_test, y_pred)"
   ]
  },
  {
   "cell_type": "markdown",
   "metadata": {},
   "source": [
    "# Backtesting"
   ]
  },
  {
   "cell_type": "code",
   "execution_count": 32,
   "metadata": {},
   "outputs": [],
   "source": [
    "#Setting up test data for backtesting\n",
    "\n",
    "#Adding Prediction to test data\n",
    "TestData = LagData[LagData['YEAR'] == TestYear]\n",
    "TestData['PREDRET'] = rf_best.predict(X_test)\n",
    "\n",
    "#Unstacking test data for backtesting\n",
    "col = ['date', 'TICKER', 'RET', 'PREDRET']\n",
    "XTrade = TestData[col]\n",
    "XTrade = pd.pivot_table(XTrade, values=['RET', 'PREDRET'], index=['date'], columns=['TICKER'], aggfunc=np.sum)\n",
    "\n",
    "#Setting up training data for backtesting optimization\n",
    "TrainData = LagData[LagData['YEAR'] != TestYear]\n",
    "TrainData['PREDRET'] = rf_best.predict(X_train)\n",
    "\n",
    "#Unstacking train data for backtesting\n",
    "col = ['date', 'TICKER', 'RET', 'PREDRET']\n",
    "Xopt = TrainData[col]\n",
    "Xopt = pd.pivot_table(Xopt, values=['RET', 'PREDRET'], index=['date'], columns=['TICKER'], aggfunc=np.sum)"
   ]
  },
  {
   "cell_type": "code",
   "execution_count": 33,
   "metadata": {},
   "outputs": [],
   "source": [
    "#Backtesting function\n",
    "def BackTest(X, Threshold, short=False):\n",
    "    Tick = ['AAPL' , 'AMZN', 'FB', 'GOOG', 'INTC', 'MSFT', 'NFLX', 'NVDA', 'ORCL', 'PYPL']\n",
    "    \n",
    "    for Tick in Tick:\n",
    "        #Applying signal for each asset if threshold is passed\n",
    "        X['SIGNAL', Tick] = 0\n",
    "        \n",
    "        #Apply buy signal\n",
    "        mask = (X['PREDRET',Tick] > Threshold)\n",
    "        X['SIGNAL', Tick][mask] = 1 \n",
    "        \n",
    "        if short == True:\n",
    "            #Apply sell signal\n",
    "            mask = (X['PREDRET',Tick] < -Threshold)\n",
    "            X['SIGNAL', Tick][mask] = -1 \n",
    "        \n",
    "        #Calculating Returns based on signals\n",
    "        X['TRADERET', Tick] = X['SIGNAL', Tick] * X['RET', Tick] \n",
    "    \n",
    "    #Calculating returns\n",
    "    X['HOLDINGS'] = (X['SIGNAL'].abs()).sum(axis=1) #Number of assets bought each day, used to find average return\n",
    "    X['TOTRET'] = (X['TRADERET'].sum(axis=1) / X['HOLDINGS']) #total returns by number of holding, this is portfolio returns\n",
    "    X['TOTRET'] = X['TOTRET'].fillna(0) \n",
    "    \n",
    "    #Cummulative Returns\n",
    "    X['STRAT_CUMRET'] = X['TOTRET'].cumsum() #Cummulative Returns\n",
    "    X['LONG_CUMRET'] = (X['RET'].sum(axis=1)/10).cumsum() #Returns for equal position long portfolio\n",
    "    \n",
    "    #Strategy metrics\n",
    "    strat_ann_vol = X['TOTRET'].std()*math.sqrt(252)\n",
    "    strat_ann_ret = ((X['TOTRET'].mean()+1)**252) - 1\n",
    "    strat_ann_sr = X['TOTRET'].mean()/(X['TOTRET'].std())*math.sqrt(252) #Sharpes Ratio\n",
    "    \n",
    "    #Baseline Long Portfolio metrics\n",
    "    long_ann_vol = (X['RET'].sum(axis=1)/10).std()*math.sqrt(252)\n",
    "    long_ann_ret = (((X['RET'].sum(axis=1)/10).mean()+1)**252) - 1\n",
    "    long_ann_sr = (X['RET'].sum(axis=1)/10).mean()/((X['RET'].sum(axis=1)/10).std())*math.sqrt(252)\n",
    "    \n",
    "    return(X, strat_ann_vol, strat_ann_ret, strat_ann_sr, long_ann_vol, long_ann_ret, long_ann_sr)"
   ]
  },
  {
   "cell_type": "code",
   "execution_count": 34,
   "metadata": {},
   "outputs": [],
   "source": [
    "#optimizing threshold parameter based on training data\n",
    "def BackTestOpt(X):\n",
    "\n",
    "    lin = np.linspace(0, 0.005, 200)\n",
    "    returns = []\n",
    "    \n",
    "    #Testing Various Thresholds\n",
    "    for i in lin:\n",
    "        Y, strat_ann_vol, strat_ann_ret, strat_ann_sr, long_ann_vol, long_ann_ret, long_ann_sr = BackTest(X, i)\n",
    "        returns.append(strat_ann_ret)\n",
    "    \n",
    "    \n",
    "    df = (pd.DataFrame([lin, returns])).T\n",
    "    df.columns = ['Threshold','Returns']\n",
    "    df['rollavg'] = df['Returns'].rolling(window=5).mean() #Smoothing out bumps\n",
    "    \n",
    "    #Finding threshold with max returns\n",
    "    idx = df['rollavg'].idxmax()\n",
    "    val1 = df['Returns'][idx]\n",
    "    val2 = df['Threshold'][idx]\n",
    "    \n",
    "    #Plotting Threshold vs annualized Returns\n",
    "    df.index = df['Threshold']\n",
    "    df['Returns'].plot()\n",
    "    df['rollavg'].plot()\n",
    "    \n",
    "    return(val1, val2)"
   ]
  },
  {
   "cell_type": "code",
   "execution_count": 35,
   "metadata": {},
   "outputs": [
    {
     "name": "stdout",
     "output_type": "stream",
     "text": [
      "0.00221\n"
     ]
    },
    {
     "data": {
      "image/png": "[encoded data removed]",
      "text/plain": [
       "<Figure size 432x288 with 1 Axes>"
      ]
     },
     "metadata": {
      "needs_background": "light"
     },
     "output_type": "display_data"
    }
   ],
   "source": [
    "#Find optimal threshold based on train data, doesnt really work since model knows this data too well, cant generalize this threshold\n",
    "ret, thresh = BackTestOpt(Xopt)\n",
    "print(round(thresh,5))"
   ]
  },
  {
   "cell_type": "code",
   "execution_count": 36,
   "metadata": {},
   "outputs": [
    {
     "name": "stdout",
     "output_type": "stream",
     "text": [
      "0.00103\n"
     ]
    },
    {
     "data": {
      "image/png": "[encoded data removed]",
      "text/plain": [
       "<Figure size 432x288 with 1 Axes>"
      ]
     },
     "metadata": {
      "needs_background": "light"
     },
     "output_type": "display_data"
    }
   ],
   "source": [
    "#Finding Optimal Threshold based on test data, cant do this in reality, would need to have other sets of data to optimize threshold on\n",
    "ret, thresh = BackTestOpt(XTrade)\n",
    "print(round(thresh,5))"
   ]
  },
  {
   "cell_type": "markdown",
   "metadata": {},
   "source": [
    "# Trading Results"
   ]
  },
  {
   "cell_type": "code",
   "execution_count": 37,
   "metadata": {},
   "outputs": [],
   "source": [
    "Threshold = 0.001 #used this based on approximating form previous tests, adds buffer for predictions around 0\n",
    "short = False\n",
    "#Threshold = thresh"
   ]
  },
  {
   "cell_type": "code",
   "execution_count": 38,
   "metadata": {},
   "outputs": [],
   "source": [
    "#Backtest on test data with optimal or manual threshold\n",
    "XTrade_rf, strat_ann_vol_rf, strat_ann_ret_rf, strat_ann_sr_rf, long_ann_vol_rf, long_ann_ret_rf, long_ann_sr_rf \\\n",
    "    = BackTest(XTrade, Threshold, short)"
   ]
  },
  {
   "cell_type": "code",
   "execution_count": 39,
   "metadata": {},
   "outputs": [
    {
     "name": "stdout",
     "output_type": "stream",
     "text": [
      "Strategy Results: Annualized Volatility: 0.1447 Annualized Returns: 0.3305 Sharpe Ratio: 1.9746\n",
      "Equal Long Portfolio Results: Annualized Volatility: 0.1181 Annualized Returns: 0.2025 Sharpe Ratio: 1.5615\n"
     ]
    },
    {
     "data": {
      "image/png": "[encoded data removed]",
      "text/plain": [
       "<Figure size 432x288 with 1 Axes>"
      ]
     },
     "metadata": {
      "needs_background": "light"
     },
     "output_type": "display_data"
    }
   ],
   "source": [
    "# Summarize results for random forest portfolio\n",
    "XTrade_rf['STRAT_CUMRET'].shift(periods=1).plot()\n",
    "XTrade_rf['LONG_CUMRET'].plot()\n",
    "plt.legend(['Random Forest Portfolio', 'Equal Portfolio'], loc=\"upper left\")\n",
    "plt.title('Model Portfolio vs Equal Portfolio Returns')\n",
    "\n",
    "print(\"Strategy Results: Annualized Volatility: %0.4f Annualized Returns: %0.4f Sharpe Ratio: %0.4f\" \\\n",
    "      % (round(strat_ann_vol_rf,4), round(strat_ann_ret_rf,4), round(strat_ann_sr_rf,4)))\n",
    "print(\"Equal Long Portfolio Results: Annualized Volatility: %0.4f Annualized Returns: %0.4f Sharpe Ratio: %0.4f\" \\\n",
    "      % (round(long_ann_vol_rf,4), round(long_ann_ret_rf,4), round(long_ann_sr_rf,4)))"
   ]
  },
  {
   "cell_type": "code",
   "execution_count": 40,
   "metadata": {},
   "outputs": [],
   "source": [
    "#White's Reality Check\n",
    "def WRC():\n",
    "    \n",
    "    return()"
   ]
  }
 ],
 "metadata": {
  "kernelspec": {
   "display_name": "Python 3",
   "language": "python",
   "name": "python3"
  },
  "language_info": {
   "codemirror_mode": {
    "name": "ipython",
    "version": 3
   },
   "file_extension": ".py",
   "mimetype": "text/x-python",
   "name": "python",
   "nbconvert_exporter": "python",
   "pygments_lexer": "ipython3",
   "version": "3.7.9"
  }
 },
 "nbformat": 4,
 "nbformat_minor": 4
}
